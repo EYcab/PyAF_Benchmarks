{
 "cells": [
  {
   "cell_type": "code",
   "execution_count": 1,
   "metadata": {
    "collapsed": true
   },
   "outputs": [],
   "source": [
    "import pandas as pd\n",
    "\n",
    "import os\n",
    "import glob\n"
   ]
  },
  {
   "cell_type": "code",
   "execution_count": 2,
   "metadata": {
    "collapsed": false
   },
   "outputs": [],
   "source": [
    "def debrief_log_file(name):\n",
    "    rows = [];\n",
    "    with open(name) as f:\n",
    "        content = f.readlines()\n",
    "    for line in content:\n",
    "        line = line.replace(\" + \" , \"+\")\n",
    "        if(line.startswith('BENCHMARK_PERF_DETAIL')):\n",
    "            # print(line1)\n",
    "            (key , lName , lSignal, lLength , lHorizon, lTrainingTime, lFormula, lCount, \n",
    "              lMAPE,  lSMAPE, lMASE,  lL1,  lL2,  lR2) = line.split();\n",
    "            row = [lName , lSignal, lLength , lHorizon, round(float(lTrainingTime) , 2), lFormula, lCount, \n",
    "              lMAPE,  lSMAPE, lMASE,  lL1,  lL2,  lR2]\n",
    "            rows = rows + [row]\n",
    "    df = pd.DataFrame(rows);\n",
    "    df.columns = \"Name Signal Length Horizon TrainingTime Formula Count MAPE SMAPE MASE L1 L2 R2\".split()\n",
    "    return df\n",
    "    \n",
    "    \n",
    "def debrief_directory(dirname):\n",
    "    dir_df = pd.DataFrame()\n",
    "    for filename in sorted(glob.glob(dirname + \"/*.log\")):\n",
    "        try:\n",
    "            df = debrief_log_file(filename)\n",
    "            dir_df = dir_df.append(df)\n",
    "        except:\n",
    "            print(\"FAILED_READING\" , filename)\n",
    "            \n",
    "        # print(df.head())\n",
    "    return dir_df"
   ]
  },
  {
   "cell_type": "code",
   "execution_count": 3,
   "metadata": {
    "collapsed": false
   },
   "outputs": [
    {
     "name": "stdout",
     "output_type": "stream",
     "text": [
      "M1_COMP\n",
      "M2_COMP\n",
      "M3_M_COMP\n",
      "M3_OTHER_COMP\n",
      "M3_Q_COMP\n",
      "M3_Y_COMP\n",
      "M4_COMP_BUSINESS-INDUSTRY\n",
      "M4_COMP_CLIMATE\n",
      "M4_COMP_DEMOGRAPHICS\n",
      "M4_COMP_ECONOMICS\n",
      "M4_COMP_FINANCE\n",
      "M4_COMP_INTERNET-TELECOM\n",
      "M4_COMP_INVENTORY\n",
      "NN3_PART_1\n",
      "NN3_PART_2\n",
      "NN5\n"
     ]
    }
   ],
   "source": [
    "benches = \"M2_COMP M3_OTHER_COMP M3_Y_COMP M4_COMP_CLIMATE M4_COMP_ECONOMICS  M4_COMP_INTERNET-TELECOM \\\n",
    "            NN3_PART_1  NN5  M1_COMP   M3_M_COMP  M3_Q_COMP M4_COMP_BUSINESS-INDUSTRY  M4_COMP_DEMOGRAPHICS \\\n",
    "            M4_COMP_FINANCE M4_COMP_INVENTORY  NN3_PART_2\".split()\n",
    "\n",
    "for b in sorted(benches):\n",
    "    print(b)\n",
    "    df_b = debrief_directory(\"../\" + b)\n",
    "    df_b.to_csv( b + \"_debrief.csv\", index=False)\n"
   ]
  },
  {
   "cell_type": "code",
   "execution_count": 5,
   "metadata": {
    "collapsed": false
   },
   "outputs": [
    {
     "name": "stdout",
     "output_type": "stream",
     "text": [
      "YAHOO_STOCKS_aex\n",
      "YAHOO_STOCKS_aord\n",
      "YAHOO_STOCKS_bvsp\n",
      "YAHOO_STOCKS_cac40\n",
      "YAHOO_STOCKS_dow_jones\n",
      "YAHOO_STOCKS_eurindex\n",
      "YAHOO_STOCKS_euronext\n",
      "YAHOO_STOCKS_eurostoxx50\n",
      "YAHOO_STOCKS_exch\n",
      "YAHOO_STOCKS_ftse100\n",
      "YAHOO_STOCKS_ftse250\n",
      "YAHOO_STOCKS_ftseall\n",
      "YAHOO_STOCKS_gdaxi\n",
      "YAHOO_STOCKS_ibex35\n",
      "YAHOO_STOCKS_ibexnm\n",
      "YAHOO_STOCKS_ipc\n",
      "YAHOO_STOCKS_kospi\n",
      "YAHOO_STOCKS_mc\n",
      "YAHOO_STOCKS_merval\n",
      "YAHOO_STOCKS_mib30\n",
      "YAHOO_STOCKS_mibtel\n",
      "YAHOO_STOCKS_midex\n",
      "YAHOO_STOCKS_my_test\n",
      "YAHOO_STOCKS_nasdaq\n",
      "YAHOO_STOCKS_nasdaqbio\n",
      "YAHOO_STOCKS_ny100\n",
      "YAHOO_STOCKS_nysecomp\n",
      "FAILED_READING ../INTERNAL/YAHOO_STOCKS/YAHOO_STOCKS_nysecomp/PyAF_YAHOO_STOCKS_nysecomp_VRS_7.log\n",
      "YAHOO_STOCKS_nyworldlead\n",
      "YAHOO_STOCKS_othindex\n",
      "YAHOO_STOCKS_smi\n",
      "YAHOO_STOCKS_sp500\n",
      "YAHOO_STOCKS_spmib\n",
      "YAHOO_STOCKS_sse\n",
      "YAHOO_STOCKS_ta100\n",
      "YAHOO_STOCKS_tsx\n",
      "YAHOO_STOCKS_usindex\n"
     ]
    }
   ],
   "source": [
    "yahoo_benches = \"YAHOO_STOCKS_aex/ YAHOO_STOCKS_euronext/ YAHOO_STOCKS_gdaxi/ YAHOO_STOCKS_merval/ YAHOO_STOCKS_nasdaqbio/ YAHOO_STOCKS_sp500/ YAHOO_STOCKS_aord/ YAHOO_STOCKS_eurostoxx50/ YAHOO_STOCKS_ibex35/ YAHOO_STOCKS_mib30/ YAHOO_STOCKS_ny100/ YAHOO_STOCKS_spmib/ YAHOO_STOCKS_bvsp/ YAHOO_STOCKS_exch/ YAHOO_STOCKS_ibexnm/ YAHOO_STOCKS_mibtel/ YAHOO_STOCKS_nysecomp/ YAHOO_STOCKS_sse/ YAHOO_STOCKS_cac40/ YAHOO_STOCKS_ftse100/ YAHOO_STOCKS_ipc/ YAHOO_STOCKS_midex/ YAHOO_STOCKS_nyworldlead/ YAHOO_STOCKS_ta100/ YAHOO_STOCKS_dow_jones/ YAHOO_STOCKS_ftse250/ YAHOO_STOCKS_kospi/ YAHOO_STOCKS_my_test/ YAHOO_STOCKS_othindex/ YAHOO_STOCKS_tsx/ YAHOO_STOCKS_eurindex/ YAHOO_STOCKS_ftseall/ YAHOO_STOCKS_mc/ YAHOO_STOCKS_nasdaq/ YAHOO_STOCKS_smi/ YAHOO_STOCKS_usindex/\".split()\n",
    "\n",
    "for yb in sorted(yahoo_benches):\n",
    "    b1 = yb.replace(\"/\" , \"\")\n",
    "    print(b1)\n",
    "    df_b = debrief_directory(\"../INTERNAL/YAHOO_STOCKS/\" + b1)\n",
    "    df_b.to_csv( b1 + \"_debrief.csv\", index=False)"
   ]
  },
  {
   "cell_type": "code",
   "execution_count": null,
   "metadata": {
    "collapsed": true
   },
   "outputs": [],
   "source": []
  }
 ],
 "metadata": {
  "kernelspec": {
   "display_name": "Python 3",
   "language": "python",
   "name": "python3"
  },
  "language_info": {
   "codemirror_mode": {
    "name": "ipython",
    "version": 3
   },
   "file_extension": ".py",
   "mimetype": "text/x-python",
   "name": "python",
   "nbconvert_exporter": "python",
   "pygments_lexer": "ipython3",
   "version": "3.5.3"
  }
 },
 "nbformat": 4,
 "nbformat_minor": 0
}
